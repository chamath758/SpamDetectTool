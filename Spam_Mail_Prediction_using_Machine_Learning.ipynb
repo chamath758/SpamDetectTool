{
  "cells": [
    {
      "attachments": {},
      "cell_type": "markdown",
      "metadata": {
        "id": "kqB21QOgMg-G"
      },
      "source": [
        "Importing the Dependencies"
      ]
    },
    {
      "cell_type": "code",
      "execution_count": 60,
      "metadata": {
        "id": "rALI06-oHusw"
      },
      "outputs": [],
      "source": [
        "import numpy as np\n",
        "import pandas as pd\n",
        "from sklearn.model_selection import train_test_split\n",
        "from sklearn.feature_extraction.text import TfidfVectorizer\n",
        "from sklearn.linear_model import LogisticRegression\n",
        "from sklearn.metrics import accuracy_score"
      ]
    },
    {
      "attachments": {},
      "cell_type": "markdown",
      "metadata": {
        "id": "YyKe9o2ONeFv"
      },
      "source": [
        "Data Collection & Pre-Processing"
      ]
    },
    {
      "cell_type": "code",
      "execution_count": 61,
      "metadata": {
        "id": "CpStHH8KNcYB"
      },
      "outputs": [],
      "source": [
        "# loading the data from csv file to a pandas Dataframe\n",
        "raw_mail_data = pd.read_csv('mail_data.csv')"
      ]
    },
    {
      "cell_type": "code",
      "execution_count": 62,
      "metadata": {
        "colab": {
          "base_uri": "https://localhost:8080/"
        },
        "id": "pdn-7VE2NxsZ",
        "outputId": "b839b4a4-a7b2-41f6-b969-b6cde75d6afc"
      },
      "outputs": [
        {
          "name": "stdout",
          "output_type": "stream",
          "text": [
            "     Category                                            Message Unnamed: 2  \\\n",
            "0         ham  Go until jurong point, crazy.. Available only ...        NaN   \n",
            "1         ham                      Ok lar... Joking wif u oni...        NaN   \n",
            "2        spam  Free entry in 2 a wkly comp to win FA Cup fina...        NaN   \n",
            "3         ham  U dun say so early hor... U c already then say...        NaN   \n",
            "4         ham  Nah I don't think he goes to usf, he lives aro...        NaN   \n",
            "...       ...                                                ...        ...   \n",
            "8626      ham  url supplieda method could allow scientist pro...        NaN   \n",
            "8627      ham  url blair broker whitehal deal trust borrow pr...        NaN   \n",
            "8628      ham  url suppliedth new softwar switch dummi code c...        NaN   \n",
            "8629      ham    url govern admit million may work beyond number        NaN   \n",
            "8630      ham  url could jam intercept satellit thrown cours ...        NaN   \n",
            "\n",
            "     Unnamed: 3 Unnamed: 4 Unnamed: 5 Unnamed: 6 Unnamed: 7 Unnamed: 8  \\\n",
            "0           NaN        NaN        NaN        NaN        NaN        NaN   \n",
            "1           NaN        NaN        NaN        NaN        NaN        NaN   \n",
            "2           NaN        NaN        NaN        NaN        NaN        NaN   \n",
            "3           NaN        NaN        NaN        NaN        NaN        NaN   \n",
            "4           NaN        NaN        NaN        NaN        NaN        NaN   \n",
            "...         ...        ...        ...        ...        ...        ...   \n",
            "8626        NaN        NaN        NaN        NaN        NaN        NaN   \n",
            "8627        NaN        NaN        NaN        NaN        NaN        NaN   \n",
            "8628        NaN        NaN        NaN        NaN        NaN        NaN   \n",
            "8629        NaN        NaN        NaN        NaN        NaN        NaN   \n",
            "8630        NaN        NaN        NaN        NaN        NaN        NaN   \n",
            "\n",
            "     Unnamed: 9 Unnamed: 10 Unnamed: 11 Unnamed: 12 Unnamed: 13 Unnamed: 14  \\\n",
            "0           NaN         NaN         NaN         NaN         NaN         NaN   \n",
            "1           NaN         NaN         NaN         NaN         NaN         NaN   \n",
            "2           NaN         NaN         NaN         NaN         NaN         NaN   \n",
            "3           NaN         NaN         NaN         NaN         NaN         NaN   \n",
            "4           NaN         NaN         NaN         NaN         NaN         NaN   \n",
            "...         ...         ...         ...         ...         ...         ...   \n",
            "8626        NaN         NaN         NaN         NaN         NaN         NaN   \n",
            "8627        NaN         NaN         NaN         NaN         NaN         NaN   \n",
            "8628        NaN         NaN         NaN         NaN         NaN         NaN   \n",
            "8629        NaN         NaN         NaN         NaN         NaN         NaN   \n",
            "8630        NaN         NaN         NaN         NaN         NaN         NaN   \n",
            "\n",
            "     Unnamed: 15 Unnamed: 16  \n",
            "0            NaN         NaN  \n",
            "1            NaN         NaN  \n",
            "2            NaN         NaN  \n",
            "3            NaN         NaN  \n",
            "4            NaN         NaN  \n",
            "...          ...         ...  \n",
            "8626         NaN         NaN  \n",
            "8627         NaN         NaN  \n",
            "8628         NaN         NaN  \n",
            "8629         NaN         NaN  \n",
            "8630         NaN         NaN  \n",
            "\n",
            "[8631 rows x 17 columns]\n"
          ]
        }
      ],
      "source": [
        "print(raw_mail_data)"
      ]
    },
    {
      "cell_type": "code",
      "execution_count": 63,
      "metadata": {
        "id": "yhakjIE1N011"
      },
      "outputs": [],
      "source": [
        "# replace the null values with a null string\n",
        "mail_data = raw_mail_data.where((pd.notnull(raw_mail_data)),'')"
      ]
    },
    {
      "cell_type": "code",
      "execution_count": 64,
      "metadata": {
        "colab": {
          "base_uri": "https://localhost:8080/",
          "height": 739
        },
        "id": "SJey6H-SOWeK",
        "outputId": "f52499b4-b30e-43e3-9353-dc30f9123847"
      },
      "outputs": [
        {
          "data": {
            "text/html": [
              "<div>\n",
              "<style scoped>\n",
              "    .dataframe tbody tr th:only-of-type {\n",
              "        vertical-align: middle;\n",
              "    }\n",
              "\n",
              "    .dataframe tbody tr th {\n",
              "        vertical-align: top;\n",
              "    }\n",
              "\n",
              "    .dataframe thead th {\n",
              "        text-align: right;\n",
              "    }\n",
              "</style>\n",
              "<table border=\"1\" class=\"dataframe\">\n",
              "  <thead>\n",
              "    <tr style=\"text-align: right;\">\n",
              "      <th></th>\n",
              "      <th>Category</th>\n",
              "      <th>Message</th>\n",
              "      <th>Unnamed: 2</th>\n",
              "      <th>Unnamed: 3</th>\n",
              "      <th>Unnamed: 4</th>\n",
              "      <th>Unnamed: 5</th>\n",
              "      <th>Unnamed: 6</th>\n",
              "      <th>Unnamed: 7</th>\n",
              "      <th>Unnamed: 8</th>\n",
              "      <th>Unnamed: 9</th>\n",
              "      <th>Unnamed: 10</th>\n",
              "      <th>Unnamed: 11</th>\n",
              "      <th>Unnamed: 12</th>\n",
              "      <th>Unnamed: 13</th>\n",
              "      <th>Unnamed: 14</th>\n",
              "      <th>Unnamed: 15</th>\n",
              "      <th>Unnamed: 16</th>\n",
              "    </tr>\n",
              "  </thead>\n",
              "  <tbody>\n",
              "    <tr>\n",
              "      <th>0</th>\n",
              "      <td>ham</td>\n",
              "      <td>Go until jurong point, crazy.. Available only ...</td>\n",
              "      <td></td>\n",
              "      <td></td>\n",
              "      <td></td>\n",
              "      <td></td>\n",
              "      <td></td>\n",
              "      <td></td>\n",
              "      <td></td>\n",
              "      <td></td>\n",
              "      <td></td>\n",
              "      <td></td>\n",
              "      <td></td>\n",
              "      <td></td>\n",
              "      <td></td>\n",
              "      <td></td>\n",
              "      <td></td>\n",
              "    </tr>\n",
              "    <tr>\n",
              "      <th>1</th>\n",
              "      <td>ham</td>\n",
              "      <td>Ok lar... Joking wif u oni...</td>\n",
              "      <td></td>\n",
              "      <td></td>\n",
              "      <td></td>\n",
              "      <td></td>\n",
              "      <td></td>\n",
              "      <td></td>\n",
              "      <td></td>\n",
              "      <td></td>\n",
              "      <td></td>\n",
              "      <td></td>\n",
              "      <td></td>\n",
              "      <td></td>\n",
              "      <td></td>\n",
              "      <td></td>\n",
              "      <td></td>\n",
              "    </tr>\n",
              "    <tr>\n",
              "      <th>2</th>\n",
              "      <td>spam</td>\n",
              "      <td>Free entry in 2 a wkly comp to win FA Cup fina...</td>\n",
              "      <td></td>\n",
              "      <td></td>\n",
              "      <td></td>\n",
              "      <td></td>\n",
              "      <td></td>\n",
              "      <td></td>\n",
              "      <td></td>\n",
              "      <td></td>\n",
              "      <td></td>\n",
              "      <td></td>\n",
              "      <td></td>\n",
              "      <td></td>\n",
              "      <td></td>\n",
              "      <td></td>\n",
              "      <td></td>\n",
              "    </tr>\n",
              "    <tr>\n",
              "      <th>3</th>\n",
              "      <td>ham</td>\n",
              "      <td>U dun say so early hor... U c already then say...</td>\n",
              "      <td></td>\n",
              "      <td></td>\n",
              "      <td></td>\n",
              "      <td></td>\n",
              "      <td></td>\n",
              "      <td></td>\n",
              "      <td></td>\n",
              "      <td></td>\n",
              "      <td></td>\n",
              "      <td></td>\n",
              "      <td></td>\n",
              "      <td></td>\n",
              "      <td></td>\n",
              "      <td></td>\n",
              "      <td></td>\n",
              "    </tr>\n",
              "    <tr>\n",
              "      <th>4</th>\n",
              "      <td>ham</td>\n",
              "      <td>Nah I don't think he goes to usf, he lives aro...</td>\n",
              "      <td></td>\n",
              "      <td></td>\n",
              "      <td></td>\n",
              "      <td></td>\n",
              "      <td></td>\n",
              "      <td></td>\n",
              "      <td></td>\n",
              "      <td></td>\n",
              "      <td></td>\n",
              "      <td></td>\n",
              "      <td></td>\n",
              "      <td></td>\n",
              "      <td></td>\n",
              "      <td></td>\n",
              "      <td></td>\n",
              "    </tr>\n",
              "  </tbody>\n",
              "</table>\n",
              "</div>"
            ],
            "text/plain": [
              "  Category                                            Message Unnamed: 2  \\\n",
              "0      ham  Go until jurong point, crazy.. Available only ...              \n",
              "1      ham                      Ok lar... Joking wif u oni...              \n",
              "2     spam  Free entry in 2 a wkly comp to win FA Cup fina...              \n",
              "3      ham  U dun say so early hor... U c already then say...              \n",
              "4      ham  Nah I don't think he goes to usf, he lives aro...              \n",
              "\n",
              "  Unnamed: 3 Unnamed: 4 Unnamed: 5 Unnamed: 6 Unnamed: 7 Unnamed: 8  \\\n",
              "0                                                                     \n",
              "1                                                                     \n",
              "2                                                                     \n",
              "3                                                                     \n",
              "4                                                                     \n",
              "\n",
              "  Unnamed: 9 Unnamed: 10 Unnamed: 11 Unnamed: 12 Unnamed: 13 Unnamed: 14  \\\n",
              "0                                                                          \n",
              "1                                                                          \n",
              "2                                                                          \n",
              "3                                                                          \n",
              "4                                                                          \n",
              "\n",
              "  Unnamed: 15 Unnamed: 16  \n",
              "0                          \n",
              "1                          \n",
              "2                          \n",
              "3                          \n",
              "4                          "
            ]
          },
          "execution_count": 64,
          "metadata": {},
          "output_type": "execute_result"
        }
      ],
      "source": [
        "# printing the first 5 rows of the dataframe\n",
        "mail_data.head()"
      ]
    },
    {
      "cell_type": "code",
      "execution_count": 65,
      "metadata": {
        "colab": {
          "base_uri": "https://localhost:8080/"
        },
        "id": "IbK82N2gOdar",
        "outputId": "7e66b2a0-e4f1-4687-b261-542f25784fa0"
      },
      "outputs": [
        {
          "data": {
            "text/plain": [
              "(8631, 17)"
            ]
          },
          "execution_count": 65,
          "metadata": {},
          "output_type": "execute_result"
        }
      ],
      "source": [
        "# checking the number of rows and columns in the dataframe\n",
        "mail_data.shape"
      ]
    },
    {
      "attachments": {},
      "cell_type": "markdown",
      "metadata": {
        "id": "vhR4U3ATPBdk"
      },
      "source": [
        "Label Encoding"
      ]
    },
    {
      "cell_type": "code",
      "execution_count": 66,
      "metadata": {
        "id": "9EW7QSgeOt4p"
      },
      "outputs": [],
      "source": [
        "# label spam mail as 0;  ham mail as 1;\n",
        "\n",
        "mail_data.loc[mail_data['Category'] == 'spam', 'Category',] = 0\n",
        "mail_data.loc[mail_data['Category'] == 'ham', 'Category',] = 1"
      ]
    },
    {
      "attachments": {},
      "cell_type": "markdown",
      "metadata": {
        "id": "uxZK1fWwPwII"
      },
      "source": [
        "spam  -  0\n",
        "\n",
        "ham  -  1"
      ]
    },
    {
      "cell_type": "code",
      "execution_count": 67,
      "metadata": {
        "id": "t8Rt-FaNPtPE"
      },
      "outputs": [],
      "source": [
        "# separating the data as texts and label\n",
        "\n",
        "X = mail_data['Message']\n",
        "\n",
        "Y = mail_data['Category']"
      ]
    },
    {
      "cell_type": "code",
      "execution_count": 68,
      "metadata": {
        "colab": {
          "base_uri": "https://localhost:8080/"
        },
        "id": "QnQeUBGtQPP7",
        "outputId": "2d15b118-beaf-4670-c1a6-e1628d830aaf"
      },
      "outputs": [
        {
          "name": "stdout",
          "output_type": "stream",
          "text": [
            "0       Go until jurong point, crazy.. Available only ...\n",
            "1                           Ok lar... Joking wif u oni...\n",
            "2       Free entry in 2 a wkly comp to win FA Cup fina...\n",
            "3       U dun say so early hor... U c already then say...\n",
            "4       Nah I don't think he goes to usf, he lives aro...\n",
            "                              ...                        \n",
            "8626    url supplieda method could allow scientist pro...\n",
            "8627    url blair broker whitehal deal trust borrow pr...\n",
            "8628    url suppliedth new softwar switch dummi code c...\n",
            "8629      url govern admit million may work beyond number\n",
            "8630    url could jam intercept satellit thrown cours ...\n",
            "Name: Message, Length: 8631, dtype: object\n"
          ]
        }
      ],
      "source": [
        "print(X)"
      ]
    },
    {
      "cell_type": "code",
      "execution_count": 69,
      "metadata": {
        "colab": {
          "base_uri": "https://localhost:8080/"
        },
        "id": "cuWDNy5KQQjY",
        "outputId": "61a91ad4-13a3-4044-fb26-cde677634e1e"
      },
      "outputs": [
        {
          "name": "stdout",
          "output_type": "stream",
          "text": [
            "0       1\n",
            "1       1\n",
            "2       0\n",
            "3       1\n",
            "4       1\n",
            "       ..\n",
            "8626    1\n",
            "8627    1\n",
            "8628    1\n",
            "8629    1\n",
            "8630    1\n",
            "Name: Category, Length: 8631, dtype: object\n"
          ]
        }
      ],
      "source": [
        "print(Y)"
      ]
    },
    {
      "attachments": {},
      "cell_type": "markdown",
      "metadata": {
        "id": "jvHyqdH8QZPH"
      },
      "source": [
        "Splitting the data into training data & test data"
      ]
    },
    {
      "cell_type": "code",
      "execution_count": 70,
      "metadata": {
        "id": "RO2GmbSNQSQH"
      },
      "outputs": [],
      "source": [
        "X_train, X_test, Y_train, Y_test = train_test_split(X, Y, test_size=0.2, random_state=3)"
      ]
    },
    {
      "cell_type": "code",
      "execution_count": 71,
      "metadata": {
        "colab": {
          "base_uri": "https://localhost:8080/"
        },
        "id": "tS2c7A4NRa46",
        "outputId": "3ad101ef-17f8-40bf-9c4e-7df06c043638"
      },
      "outputs": [
        {
          "name": "stdout",
          "output_type": "stream",
          "text": [
            "(8631,)\n",
            "(6904,)\n",
            "(1727,)\n"
          ]
        }
      ],
      "source": [
        "print(X.shape)\n",
        "print(X_train.shape)\n",
        "print(X_test.shape)"
      ]
    },
    {
      "attachments": {},
      "cell_type": "markdown",
      "metadata": {
        "id": "wYQpiACGSBYM"
      },
      "source": [
        "Feature Extraction"
      ]
    },
    {
      "cell_type": "code",
      "execution_count": 72,
      "metadata": {
        "colab": {
          "base_uri": "https://localhost:8080/"
        },
        "id": "nLs847nSRibm",
        "notebookRunGroups": {
          "groupValue": ""
        },
        "outputId": "dd98a740-c862-46a8-d4ab-2e7e7f9d981a"
      },
      "outputs": [
        {
          "name": "stderr",
          "output_type": "stream",
          "text": [
            "C:\\Users\\chama\\AppData\\Local\\Packages\\PythonSoftwareFoundation.Python.3.11_qbz5n2kfra8p0\\LocalCache\\local-packages\\Python311\\site-packages\\sklearn\\utils\\_param_validation.py:558: FutureWarning: Passing an int for a boolean parameter is deprecated in version 1.2 and won't be supported anymore in version 1.4.\n",
            "  warnings.warn(\n"
          ]
        }
      ],
      "source": [
        "# transform the text data to feature vectors that can be used as input to the Logistic regression\n",
        "\n",
        "feature_extraction = TfidfVectorizer(min_df = 1, stop_words='english', lowercase=1)\n",
        "# Assuming X_train is the training data\n",
        "\n",
        "X_train_features = feature_extraction.fit_transform(X_train)\n",
        "X_test_features = feature_extraction.transform(X_test)\n",
        "\n",
        "# convert Y_train and Y_test values as integers\n",
        "\n",
        "Y_train = Y_train.astype('int')\n",
        "Y_test = Y_test.astype('int')\n"
      ]
    },
    {
      "cell_type": "code",
      "execution_count": 73,
      "metadata": {
        "colab": {
          "base_uri": "https://localhost:8080/"
        },
        "id": "dBMAcw9RUkUY",
        "outputId": "e3818a95-41cd-4e06-9952-20331db5c157"
      },
      "outputs": [
        {
          "name": "stdout",
          "output_type": "stream",
          "text": [
            "3186    MAYBE IF YOU WOKE UP BEFORE FUCKING 3 THIS WOU...\n",
            "8425    url onlin observer' traci mcveigh expert tim b...\n",
            "8459    url record giant' move highlight chang situat ...\n",
            "2472                sry can't talk on phone, with parents\n",
            "3266    44 7732584351, Do you want a New Nokia 3510i c...\n",
            "                              ...                        \n",
            "7161    number pm number number justin mason wrotejust...\n",
            "2707    S now only i took tablets . Reaction morning o...\n",
            "6400    press releas ayn rand alton parkway suit ca nu...\n",
            "1688    Free Top ringtone -sub to weekly ringtone-get ...\n",
            "5994    tri research via sa mirror search engin exist ...\n",
            "Name: Message, Length: 6904, dtype: object\n"
          ]
        }
      ],
      "source": [
        "print(X_train)"
      ]
    },
    {
      "cell_type": "code",
      "execution_count": 74,
      "metadata": {
        "colab": {
          "base_uri": "https://localhost:8080/"
        },
        "id": "1NFuGogZUpt0",
        "outputId": "db86e236-4106-437f-d970-34179afd344e"
      },
      "outputs": [
        {
          "name": "stdout",
          "output_type": "stream",
          "text": [
            "  (0, 25313)\t0.26327603035790054\n",
            "  (0, 36534)\t0.506390622726645\n",
            "  (0, 12500)\t0.4771159261678671\n",
            "  (0, 36337)\t0.506390622726645\n",
            "  (0, 19364)\t0.4360999876920493\n",
            "  (1, 25838)\t0.1625251039958751\n",
            "  (1, 24898)\t0.15736207935444846\n",
            "  (1, 26350)\t0.1848048942916818\n",
            "  (1, 13339)\t0.26825160202465986\n",
            "  (1, 8934)\t0.1866624023575617\n",
            "  (1, 22115)\t0.19625464609863782\n",
            "  (1, 32533)\t0.20408669708318788\n",
            "  (1, 14665)\t0.30681147707561296\n",
            "  (1, 2268)\t0.30681147707561296\n",
            "  (1, 5008)\t0.321042779662922\n",
            "  (1, 32593)\t0.20949718722103688\n",
            "  (1, 10865)\t0.20166513623648682\n",
            "  (1, 19439)\t0.321042779662922\n",
            "  (1, 33322)\t0.321042779662922\n",
            "  (1, 22363)\t0.321042779662922\n",
            "  (1, 22892)\t0.1663726150271857\n",
            "  (1, 34335)\t0.12215850781129976\n",
            "  (2, 11103)\t0.49041684198067687\n",
            "  (2, 19204)\t0.2655940208521174\n",
            "  (2, 6562)\t0.34371014022642665\n",
            "  :\t:\n",
            "  (6903, 25097)\t0.1253794070969458\n",
            "  (6903, 16301)\t0.16117275978043222\n",
            "  (6903, 10793)\t0.1271323483579491\n",
            "  (6903, 22742)\t0.1345764394463162\n",
            "  (6903, 23222)\t0.1345764394463162\n",
            "  (6903, 28481)\t0.11415351020006051\n",
            "  (6903, 11148)\t0.12219931569167031\n",
            "  (6903, 11512)\t0.27798693521707535\n",
            "  (6903, 29652)\t0.1198230457592445\n",
            "  (6903, 32695)\t0.13058273561789346\n",
            "  (6903, 23062)\t0.13377823021898058\n",
            "  (6903, 15953)\t0.14866012866078\n",
            "  (6903, 11268)\t0.12373964005742524\n",
            "  (6903, 28074)\t0.12356380841648587\n",
            "  (6903, 10247)\t0.1271323483579491\n",
            "  (6903, 33443)\t0.09684661011630315\n",
            "  (6903, 18950)\t0.08065169248662211\n",
            "  (6903, 10086)\t0.0830247894473656\n",
            "  (6903, 29889)\t0.10492244465137199\n",
            "  (6903, 34377)\t0.07535383852822652\n",
            "  (6903, 930)\t0.12427455604037059\n",
            "  (6903, 25532)\t0.11379311308346313\n",
            "  (6903, 36574)\t0.10805210751734103\n",
            "  (6903, 21234)\t0.08334663489999826\n",
            "  (6903, 24284)\t0.10274677573753974\n"
          ]
        }
      ],
      "source": [
        "print(X_train_features)"
      ]
    },
    {
      "attachments": {},
      "cell_type": "markdown",
      "metadata": {
        "id": "q86FvELbU_SV"
      },
      "source": [
        "Training the Model"
      ]
    },
    {
      "attachments": {},
      "cell_type": "markdown",
      "metadata": {
        "id": "hV6BAIZQVBbo"
      },
      "source": [
        "Logistic Regression"
      ]
    },
    {
      "cell_type": "code",
      "execution_count": 75,
      "metadata": {
        "id": "1JeAOwzpUv0V"
      },
      "outputs": [],
      "source": [
        "model = LogisticRegression()"
      ]
    },
    {
      "cell_type": "code",
      "execution_count": 76,
      "metadata": {
        "colab": {
          "base_uri": "https://localhost:8080/",
          "height": 75
        },
        "id": "gWGRHWAPVI_z",
        "outputId": "bb38c0ec-f5b1-4a8e-b8c5-a23d26f70167"
      },
      "outputs": [
        {
          "data": {
            "text/html": [
              "<style>#sk-container-id-3 {color: black;background-color: white;}#sk-container-id-3 pre{padding: 0;}#sk-container-id-3 div.sk-toggleable {background-color: white;}#sk-container-id-3 label.sk-toggleable__label {cursor: pointer;display: block;width: 100%;margin-bottom: 0;padding: 0.3em;box-sizing: border-box;text-align: center;}#sk-container-id-3 label.sk-toggleable__label-arrow:before {content: \"▸\";float: left;margin-right: 0.25em;color: #696969;}#sk-container-id-3 label.sk-toggleable__label-arrow:hover:before {color: black;}#sk-container-id-3 div.sk-estimator:hover label.sk-toggleable__label-arrow:before {color: black;}#sk-container-id-3 div.sk-toggleable__content {max-height: 0;max-width: 0;overflow: hidden;text-align: left;background-color: #f0f8ff;}#sk-container-id-3 div.sk-toggleable__content pre {margin: 0.2em;color: black;border-radius: 0.25em;background-color: #f0f8ff;}#sk-container-id-3 input.sk-toggleable__control:checked~div.sk-toggleable__content {max-height: 200px;max-width: 100%;overflow: auto;}#sk-container-id-3 input.sk-toggleable__control:checked~label.sk-toggleable__label-arrow:before {content: \"▾\";}#sk-container-id-3 div.sk-estimator input.sk-toggleable__control:checked~label.sk-toggleable__label {background-color: #d4ebff;}#sk-container-id-3 div.sk-label input.sk-toggleable__control:checked~label.sk-toggleable__label {background-color: #d4ebff;}#sk-container-id-3 input.sk-hidden--visually {border: 0;clip: rect(1px 1px 1px 1px);clip: rect(1px, 1px, 1px, 1px);height: 1px;margin: -1px;overflow: hidden;padding: 0;position: absolute;width: 1px;}#sk-container-id-3 div.sk-estimator {font-family: monospace;background-color: #f0f8ff;border: 1px dotted black;border-radius: 0.25em;box-sizing: border-box;margin-bottom: 0.5em;}#sk-container-id-3 div.sk-estimator:hover {background-color: #d4ebff;}#sk-container-id-3 div.sk-parallel-item::after {content: \"\";width: 100%;border-bottom: 1px solid gray;flex-grow: 1;}#sk-container-id-3 div.sk-label:hover label.sk-toggleable__label {background-color: #d4ebff;}#sk-container-id-3 div.sk-serial::before {content: \"\";position: absolute;border-left: 1px solid gray;box-sizing: border-box;top: 0;bottom: 0;left: 50%;z-index: 0;}#sk-container-id-3 div.sk-serial {display: flex;flex-direction: column;align-items: center;background-color: white;padding-right: 0.2em;padding-left: 0.2em;position: relative;}#sk-container-id-3 div.sk-item {position: relative;z-index: 1;}#sk-container-id-3 div.sk-parallel {display: flex;align-items: stretch;justify-content: center;background-color: white;position: relative;}#sk-container-id-3 div.sk-item::before, #sk-container-id-3 div.sk-parallel-item::before {content: \"\";position: absolute;border-left: 1px solid gray;box-sizing: border-box;top: 0;bottom: 0;left: 50%;z-index: -1;}#sk-container-id-3 div.sk-parallel-item {display: flex;flex-direction: column;z-index: 1;position: relative;background-color: white;}#sk-container-id-3 div.sk-parallel-item:first-child::after {align-self: flex-end;width: 50%;}#sk-container-id-3 div.sk-parallel-item:last-child::after {align-self: flex-start;width: 50%;}#sk-container-id-3 div.sk-parallel-item:only-child::after {width: 0;}#sk-container-id-3 div.sk-dashed-wrapped {border: 1px dashed gray;margin: 0 0.4em 0.5em 0.4em;box-sizing: border-box;padding-bottom: 0.4em;background-color: white;}#sk-container-id-3 div.sk-label label {font-family: monospace;font-weight: bold;display: inline-block;line-height: 1.2em;}#sk-container-id-3 div.sk-label-container {text-align: center;}#sk-container-id-3 div.sk-container {/* jupyter's `normalize.less` sets `[hidden] { display: none; }` but bootstrap.min.css set `[hidden] { display: none !important; }` so we also need the `!important` here to be able to override the default hidden behavior on the sphinx rendered scikit-learn.org. See: https://github.com/scikit-learn/scikit-learn/issues/21755 */display: inline-block !important;position: relative;}#sk-container-id-3 div.sk-text-repr-fallback {display: none;}</style><div id=\"sk-container-id-3\" class=\"sk-top-container\"><div class=\"sk-text-repr-fallback\"><pre>LogisticRegression()</pre><b>In a Jupyter environment, please rerun this cell to show the HTML representation or trust the notebook. <br />On GitHub, the HTML representation is unable to render, please try loading this page with nbviewer.org.</b></div><div class=\"sk-container\" hidden><div class=\"sk-item\"><div class=\"sk-estimator sk-toggleable\"><input class=\"sk-toggleable__control sk-hidden--visually\" id=\"sk-estimator-id-3\" type=\"checkbox\" checked><label for=\"sk-estimator-id-3\" class=\"sk-toggleable__label sk-toggleable__label-arrow\">LogisticRegression</label><div class=\"sk-toggleable__content\"><pre>LogisticRegression()</pre></div></div></div></div></div>"
            ],
            "text/plain": [
              "LogisticRegression()"
            ]
          },
          "execution_count": 76,
          "metadata": {},
          "output_type": "execute_result"
        }
      ],
      "source": [
        "# training the Logistic Regression model with the training data\n",
        "model.fit(X_train_features, Y_train)"
      ]
    },
    {
      "attachments": {},
      "cell_type": "markdown",
      "metadata": {
        "id": "wZ01fa8dVeL5"
      },
      "source": [
        "Evaluating the trained model"
      ]
    },
    {
      "cell_type": "code",
      "execution_count": 77,
      "metadata": {
        "id": "ExiF2kKxVYtC"
      },
      "outputs": [],
      "source": [
        "# prediction on training data\n",
        "\n",
        "prediction_on_training_data = model.predict(X_train_features)\n",
        "accuracy_on_training_data = accuracy_score(Y_train, prediction_on_training_data)"
      ]
    },
    {
      "cell_type": "code",
      "execution_count": 78,
      "metadata": {
        "colab": {
          "base_uri": "https://localhost:8080/"
        },
        "id": "o7t4DI5UWCkB",
        "outputId": "6b2e6d5a-2c1b-4b4b-93d6-63f8489dad39"
      },
      "outputs": [
        {
          "name": "stdout",
          "output_type": "stream",
          "text": [
            "Accuracy on training data :  0.9649478563151797\n"
          ]
        }
      ],
      "source": [
        "print('Accuracy on training data : ', accuracy_on_training_data)"
      ]
    },
    {
      "cell_type": "code",
      "execution_count": 79,
      "metadata": {
        "id": "cTin5rXTWKg3"
      },
      "outputs": [],
      "source": [
        "# prediction on test data\n",
        "\n",
        "prediction_on_test_data = model.predict(X_test_features)\n",
        "accuracy_on_test_data = accuracy_score(Y_test, prediction_on_test_data)"
      ]
    },
    {
      "cell_type": "code",
      "execution_count": 80,
      "metadata": {
        "colab": {
          "base_uri": "https://localhost:8080/"
        },
        "id": "4gvoMK4OWnJY",
        "outputId": "7c86413b-cfec-4bda-89bc-86418332bf13"
      },
      "outputs": [
        {
          "name": "stdout",
          "output_type": "stream",
          "text": [
            "Accuracy on test data :  0.9554140127388535\n"
          ]
        }
      ],
      "source": [
        "print('Accuracy on test data : ', accuracy_on_test_data)"
      ]
    },
    {
      "attachments": {},
      "cell_type": "markdown",
      "metadata": {
        "id": "bXdOKxYAXaHC"
      },
      "source": [
        "Building a Predictive System"
      ]
    },
    {
      "cell_type": "code",
      "execution_count": 81,
      "metadata": {
        "colab": {
          "base_uri": "https://localhost:8080/"
        },
        "id": "h60z1__mWql6",
        "outputId": "540d8b66-d26c-4306-906e-7364973e39b0"
      },
      "outputs": [
        {
          "name": "stdout",
          "output_type": "stream",
          "text": [
            "[0]\n",
            "Spam mail\n"
          ]
        }
      ],
      "source": [
        "input_mail = [\"07732584351 - Rodger Burns - MSG = We tried to call you re your reply to our sms for a free nokia mobile + free camcorder. Please call now 08000930705 for delivery tomorrow\"]\n",
        "\n",
        "# convert text to feature vectors\n",
        "input_data_features = feature_extraction.transform(input_mail)\n",
        "\n",
        "# making prediction\n",
        "\n",
        "prediction = model.predict(input_data_features)\n",
        "print(prediction)\n",
        "\n",
        "\n",
        "if (prediction[0]==1):\n",
        "  print('Ham mail')\n",
        "\n",
        "else:\n",
        "  print('Spam mail')"
      ]
    },
    {
      "cell_type": "code",
      "execution_count": 85,
      "metadata": {},
      "outputs": [],
      "source": [
        "# Save the trained model\n",
        "with open('model.pkl', 'wb') as file:\n",
        "    pickle.dump(model, file)\n",
        "\n",
        "# Save the feature extraction settings\n",
        "with open('feature_extraction.pkl', 'wb') as file:\n",
        "    pickle.dump(feature_extraction, file)\n",
        "    \n",
        "    \n",
        "\n"
      ]
    }
  ],
  "metadata": {
    "colab": {
      "provenance": []
    },
    "kernelspec": {
      "display_name": "Python 3",
      "name": "python3"
    },
    "language_info": {
      "codemirror_mode": {
        "name": "ipython",
        "version": 3
      },
      "file_extension": ".py",
      "mimetype": "text/x-python",
      "name": "python",
      "nbconvert_exporter": "python",
      "pygments_lexer": "ipython3",
      "version": "3.11.3"
    }
  },
  "nbformat": 4,
  "nbformat_minor": 0
}
